{
 "cells": [
  {
   "cell_type": "markdown",
   "id": "81939cb5",
   "metadata": {},
   "source": [
    "#### 5. calcule o salário de um professor horista na Universidade XYZ. O programa deve perguntar o número de horas trabalhadas, calcular e imprimir na tela o valor do salário bruto, do salário líquido e do total de descontos, sabendo que o desconto do imposto é 30% e que o valor da hora-aula é RS 40,00 "
   ]
  },
  {
   "cell_type": "code",
   "execution_count": 12,
   "id": "c3f8a373",
   "metadata": {},
   "outputs": [],
   "source": [
    "# Atribuição de variáveis\n",
    "\n",
    "horas = 0\n",
    "sal_bruto = 0\n",
    "sal_liq = 0\n",
    "descontos_nominal = 0\n",
    "desconto_per = 0.3\n",
    "hora_aula = 40"
   ]
  },
  {
   "cell_type": "code",
   "execution_count": 14,
   "id": "9e4a77ad",
   "metadata": {},
   "outputs": [
    {
     "name": "stdout",
     "output_type": "stream",
     "text": [
      "Número de horas trabalhadas: 60\n"
     ]
    }
   ],
   "source": [
    "# Entrada de dados\n",
    "\n",
    "horas = float(input(\"Número de horas trabalhadas: \"))"
   ]
  },
  {
   "cell_type": "code",
   "execution_count": 15,
   "id": "03f5f357",
   "metadata": {},
   "outputs": [],
   "source": [
    "# Processamento de dados\n",
    "\n",
    "sal_bruto = horas * hora_aula\n",
    "descontos_nominal = sal_bruto * desconto_per\n",
    "sal_liq = sal_bruto - descontos_nominal"
   ]
  },
  {
   "cell_type": "code",
   "execution_count": 16,
   "id": "9f181008",
   "metadata": {},
   "outputs": [
    {
     "name": "stdout",
     "output_type": "stream",
     "text": [
      "O professor recebeu um salário bruto de 2400.0, com descontos de 720.0 que levaram a um salário líquido de 1680.0 pelas 60.0 horas trabalhadas\n"
     ]
    }
   ],
   "source": [
    "# Saída de dados\n",
    "\n",
    "print(f'O professor recebeu um salário bruto de {sal_bruto}, com descontos de {descontos_nominal} que levaram a um salário líquido de {sal_liq} pelas {horas} horas trabalhadas')"
   ]
  },
  {
   "cell_type": "code",
   "execution_count": null,
   "id": "08ba4e88",
   "metadata": {},
   "outputs": [],
   "source": []
  }
 ],
 "metadata": {
  "kernelspec": {
   "display_name": "Python 3 (ipykernel)",
   "language": "python",
   "name": "python3"
  },
  "language_info": {
   "codemirror_mode": {
    "name": "ipython",
    "version": 3
   },
   "file_extension": ".py",
   "mimetype": "text/x-python",
   "name": "python",
   "nbconvert_exporter": "python",
   "pygments_lexer": "ipython3",
   "version": "3.10.9"
  }
 },
 "nbformat": 4,
 "nbformat_minor": 5
}
